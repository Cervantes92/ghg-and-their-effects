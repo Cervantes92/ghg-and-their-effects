{
 "cells": [
  {
   "cell_type": "markdown",
   "metadata": {},
   "source": [
    "<h1>The Corelation between Greenhouse Gasses and  </h1>\n",
    "<p></p>"
   ]
  },
  {
   "cell_type": "code",
   "execution_count": 136,
   "metadata": {
    "collapsed": false
   },
   "outputs": [
    {
     "name": "stdout",
     "output_type": "stream",
     "text": [
      "Global Radiative Forcing 1979 - 2017 (W m-2)\n"
     ]
    },
    {
     "data": {
      "text/html": [
       "<div>\n",
       "<table border=\"1\" class=\"dataframe\">\n",
       "  <thead>\n",
       "    <tr style=\"text-align: right;\">\n",
       "      <th></th>\n",
       "      <th>Year</th>\n",
       "      <th>CO2</th>\n",
       "      <th>CH4</th>\n",
       "      <th>N2O</th>\n",
       "      <th>CFC12</th>\n",
       "      <th>CFC11</th>\n",
       "      <th>15-minor</th>\n",
       "      <th>Total RF</th>\n",
       "      <th>CO2-eq (PPM) Total</th>\n",
       "      <th>AGGI 1990 = 1</th>\n",
       "      <th>% Change</th>\n",
       "    </tr>\n",
       "  </thead>\n",
       "  <tbody>\n",
       "    <tr>\n",
       "      <th>0</th>\n",
       "      <td>1980</td>\n",
       "      <td>1.058</td>\n",
       "      <td>0.413</td>\n",
       "      <td>0.104</td>\n",
       "      <td>0.097</td>\n",
       "      <td>0.042</td>\n",
       "      <td>0.034</td>\n",
       "      <td>1.748</td>\n",
       "      <td>385</td>\n",
       "      <td>0.808</td>\n",
       "      <td>2.2</td>\n",
       "    </tr>\n",
       "    <tr>\n",
       "      <th>1</th>\n",
       "      <td>1981</td>\n",
       "      <td>1.077</td>\n",
       "      <td>0.420</td>\n",
       "      <td>0.107</td>\n",
       "      <td>0.102</td>\n",
       "      <td>0.044</td>\n",
       "      <td>0.036</td>\n",
       "      <td>1.786</td>\n",
       "      <td>388</td>\n",
       "      <td>0.825</td>\n",
       "      <td>1.8</td>\n",
       "    </tr>\n",
       "    <tr>\n",
       "      <th>2</th>\n",
       "      <td>1982</td>\n",
       "      <td>1.089</td>\n",
       "      <td>0.426</td>\n",
       "      <td>0.111</td>\n",
       "      <td>0.107</td>\n",
       "      <td>0.046</td>\n",
       "      <td>0.038</td>\n",
       "      <td>1.818</td>\n",
       "      <td>391</td>\n",
       "      <td>0.840</td>\n",
       "      <td>1.5</td>\n",
       "    </tr>\n",
       "    <tr>\n",
       "      <th>3</th>\n",
       "      <td>1983</td>\n",
       "      <td>1.115</td>\n",
       "      <td>0.429</td>\n",
       "      <td>0.113</td>\n",
       "      <td>0.113</td>\n",
       "      <td>0.048</td>\n",
       "      <td>0.041</td>\n",
       "      <td>1.859</td>\n",
       "      <td>394</td>\n",
       "      <td>0.859</td>\n",
       "      <td>1.9</td>\n",
       "    </tr>\n",
       "    <tr>\n",
       "      <th>4</th>\n",
       "      <td>1984</td>\n",
       "      <td>1.140</td>\n",
       "      <td>0.432</td>\n",
       "      <td>0.116</td>\n",
       "      <td>0.118</td>\n",
       "      <td>0.050</td>\n",
       "      <td>0.044</td>\n",
       "      <td>1.900</td>\n",
       "      <td>397</td>\n",
       "      <td>0.878</td>\n",
       "      <td>1.9</td>\n",
       "    </tr>\n",
       "  </tbody>\n",
       "</table>\n",
       "</div>"
      ],
      "text/plain": [
       "   Year    CO2    CH4    N2O  CFC12  CFC11  15-minor  Total RF  \\\n",
       "0  1980  1.058  0.413  0.104  0.097  0.042     0.034     1.748   \n",
       "1  1981  1.077  0.420  0.107  0.102  0.044     0.036     1.786   \n",
       "2  1982  1.089  0.426  0.111  0.107  0.046     0.038     1.818   \n",
       "3  1983  1.115  0.429  0.113  0.113  0.048     0.041     1.859   \n",
       "4  1984  1.140  0.432  0.116  0.118  0.050     0.044     1.900   \n",
       "\n",
       "   CO2-eq (PPM) Total  AGGI 1990 = 1  % Change  \n",
       "0                 385          0.808       2.2  \n",
       "1                 388          0.825       1.8  \n",
       "2                 391          0.840       1.5  \n",
       "3                 394          0.859       1.9  \n",
       "4                 397          0.878       1.9  "
      ]
     },
     "execution_count": 136,
     "metadata": {},
     "output_type": "execute_result"
    }
   ],
   "source": [
    "import pandas as pd\n",
    "import matplotlib.pyplot as plt\n",
    "import numpy as np\n",
    "import matplotlib as mpl\n",
    "%matplotlib inline\n",
    "\n",
    "#Global Radiative Forcing 1980 - 2017 (W m-2)\n",
    "aggi = pd.read_csv('noaa/AGGI_Table-1.csv')\n",
    "\n",
    "print('Global Radiative Forcing 1979 - 2017 (W m-2)')\n",
    "aggi.head()"
   ]
  },
  {
   "cell_type": "code",
   "execution_count": 137,
   "metadata": {
    "collapsed": false
   },
   "outputs": [
    {
     "name": "stdout",
     "output_type": "stream",
     "text": [
      "Mean Annual Atospheric CO2 in PPM\n"
     ]
    },
    {
     "data": {
      "text/html": [
       "<div>\n",
       "<table border=\"1\" class=\"dataframe\">\n",
       "  <thead>\n",
       "    <tr style=\"text-align: right;\">\n",
       "      <th></th>\n",
       "      <th>Year</th>\n",
       "      <th>Mean</th>\n",
       "      <th>Uncertainty</th>\n",
       "    </tr>\n",
       "  </thead>\n",
       "  <tbody>\n",
       "    <tr>\n",
       "      <th>0</th>\n",
       "      <td>1959</td>\n",
       "      <td>315.97</td>\n",
       "      <td>0.12</td>\n",
       "    </tr>\n",
       "    <tr>\n",
       "      <th>1</th>\n",
       "      <td>1960</td>\n",
       "      <td>316.91</td>\n",
       "      <td>0.12</td>\n",
       "    </tr>\n",
       "    <tr>\n",
       "      <th>2</th>\n",
       "      <td>1961</td>\n",
       "      <td>317.64</td>\n",
       "      <td>0.12</td>\n",
       "    </tr>\n",
       "    <tr>\n",
       "      <th>3</th>\n",
       "      <td>1962</td>\n",
       "      <td>318.45</td>\n",
       "      <td>0.12</td>\n",
       "    </tr>\n",
       "    <tr>\n",
       "      <th>4</th>\n",
       "      <td>1963</td>\n",
       "      <td>318.99</td>\n",
       "      <td>0.12</td>\n",
       "    </tr>\n",
       "  </tbody>\n",
       "</table>\n",
       "</div>"
      ],
      "text/plain": [
       "   Year    Mean  Uncertainty\n",
       "0  1959  315.97         0.12\n",
       "1  1960  316.91         0.12\n",
       "2  1961  317.64         0.12\n",
       "3  1962  318.45         0.12\n",
       "4  1963  318.99         0.12"
      ]
     },
     "execution_count": 137,
     "metadata": {},
     "output_type": "execute_result"
    }
   ],
   "source": [
    "co2ppm = pd.read_csv('datahub/co2-annmean-mlo_csv.csv')\n",
    "\n",
    "print('Mean Annual Atospheric CO2 in PPM')\n",
    "co2ppm.head()"
   ]
  },
  {
   "cell_type": "code",
   "execution_count": 138,
   "metadata": {
    "collapsed": false
   },
   "outputs": [
    {
     "data": {
      "image/png": "[encoded data removed]",
      "text/plain": [
       "<matplotlib.figure.Figure at 0x1c05269e780>"
      ]
     },
     "metadata": {},
     "output_type": "display_data"
    }
   ],
   "source": [
    "plt.figure(figsize = (5,6))\n",
    "\n",
    "#Plot of Total \n",
    "plt.subplot(2,1,1)\n",
    "plt.plot(aggi['Year'], aggi['Total RF'])\n",
    "plt.title('Annual Greenhouse Gas Index: ')\n",
    "plt.xlabel('Year')\n",
    "plt.ylabel('Total Radiative Forcing (W m^-2)')\n",
    "\n",
    "plt.subplot(2,1,2)\n",
    "plt.plot(co2ppm['Year'], co2ppm['Mean'])\n",
    "plt.title('Average Annual Atmospheric CO2 in PPM')\n",
    "plt.xlabel('Year')\n",
    "plt.ylabel('CO2 in PPM')\n",
    "\n",
    "plt.tight_layout()\n",
    "plt.show()"
   ]
  },
  {
   "cell_type": "markdown",
   "metadata": {},
   "source": [
    "<h2>Observation</h2>\n",
    "<p>Both the average annual atmospheric CO2 content and the total radiative forcing show a consistent upward trend in their respective time range.</p>"
   ]
  },
  {
   "cell_type": "code",
   "execution_count": 154,
   "metadata": {
    "collapsed": false
   },
   "outputs": [
    {
     "data": {
      "image/png": "[encoded data removed]",
      "text/plain": [
       "<matplotlib.figure.Figure at 0x1c052820048>"
      ]
     },
     "metadata": {},
     "output_type": "display_data"
    }
   ],
   "source": [
    "#Plot Total RF to CO2 in PPM for the years 1980 to 2017\n",
    "metadf = aggi.set_index('Year').join(co2ppm.set_index('Year'))\n",
    "metadf.head()\n",
    "\n",
    "plt.scatter(x = metadf['Mean'], y = metadf['Total RF'])\n",
    "plt.title('Atmospheric CO2 to Total Radiative Forcing')\n",
    "plt.xlabel('Mean Annual Atmospheric CO2 in PPM')\n",
    "plt.ylabel('Total Radiative Forcing (W m^-2)')\n",
    "plt.show()"
   ]
  }
 ],
 "metadata": {
  "kernelspec": {
   "display_name": "Python 3",
   "language": "python",
   "name": "python3"
  },
  "language_info": {
   "codemirror_mode": {
    "name": "ipython",
    "version": 3
   },
   "file_extension": ".py",
   "mimetype": "text/x-python",
   "name": "python",
   "nbconvert_exporter": "python",
   "pygments_lexer": "ipython3",
   "version": "3.6.0"
  }
 },
 "nbformat": 4,
 "nbformat_minor": 2
}
